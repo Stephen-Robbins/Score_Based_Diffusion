{
 "cells": [
  {
   "cell_type": "code",
   "execution_count": null,
   "metadata": {},
   "outputs": [],
   "source": [
    "from diffusion import VPSDE\n",
    "import torchvision\n",
    "from matplotlib import pyplot as plt\n",
    "import torchvision.transforms as transforms\n",
    "from denoising_diffusion_pytorch import Unet\n",
    "from diffusion import VPSDE\n",
    "from torch.utils.data import DataLoader\n",
    "from training import train_score_network_mnist"
   ]
  },
  {
   "cell_type": "code",
   "execution_count": null,
   "metadata": {},
   "outputs": [],
   "source": [
    "device = 'cuda'\n",
    "data = 'MNIST'\n",
    "model = Unet(channels = 1, dim = 32).to(device)\n",
    "sde = VPSDE(100, 0.1, 20, device = device)\n",
    "\n",
    "''' hyper params'''\n",
    "n_epochs =   50\n",
    "batch_size =  32"
   ]
  },
  {
   "cell_type": "code",
   "execution_count": null,
   "metadata": {},
   "outputs": [],
   "source": [
    "tfm = transforms.Compose([transforms.ToTensor(), transforms.Pad(2)])\n",
    "data = torchvision.datasets.MNIST(f'./data/', transform=tfm, download = True)\n",
    "data_loader = DataLoader(data, batch_size=batch_size, shuffle=True, num_workers=4)"
   ]
  },
  {
   "cell_type": "code",
   "execution_count": null,
   "metadata": {},
   "outputs": [],
   "source": [
    "train_score_network_mnist(data_loader, model, sde, epochs=50)"
   ]
  },
  {
   "cell_type": "code",
   "execution_count": null,
   "metadata": {},
   "outputs": [],
   "source": []
  }
 ],
 "metadata": {
  "kernelspec": {
   "display_name": "bridge_test",
   "language": "python",
   "name": "python3"
  },
  "language_info": {
   "codemirror_mode": {
    "name": "ipython",
    "version": 3
   },
   "file_extension": ".py",
   "mimetype": "text/x-python",
   "name": "python",
   "nbconvert_exporter": "python",
   "pygments_lexer": "ipython3",
   "version": "3.10.12"
  }
 },
 "nbformat": 4,
 "nbformat_minor": 2
}
