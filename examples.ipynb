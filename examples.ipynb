{
 "cells": [
  {
   "cell_type": "code",
   "execution_count": null,
   "metadata": {},
   "outputs": [],
   "source": [
    "%load_ext autoreload\n",
    "%autoreload 2\n",
    "\n",
    "from diffusion import VPSDE\n",
    "from data import generate_mixture_gaussians\n",
    "\n",
    "# Make sure our diffusion process actually diffuses the data\n",
    "data = generate_mixture_gaussians()\n",
    "sde = VPSDE(250, 0.1, 20)\n",
    "sde.plot_forward_diffusion(data)"
   ]
  },
  {
   "cell_type": "code",
   "execution_count": null,
   "metadata": {},
   "outputs": [],
   "source": [
    "%load_ext autoreload\n",
    "%autoreload 2\n",
    "from torch.utils.data import DataLoader, TensorDataset\n",
    "from training import train_score_network\n",
    "from model import MLP\n",
    "\n",
    "\n",
    "data = generate_mixture_gaussians(num_samples=4000)\n",
    "dataloader = DataLoader(TensorDataset(data), batch_size=500, shuffle=True)\n",
    "score_net = MLP()\n",
    "train_score_network(dataloader, score_net, sde)"
   ]
  },
  {
   "cell_type": "code",
   "execution_count": null,
   "metadata": {},
   "outputs": [],
   "source": [
    "%load_ext autoreload\n",
    "%autoreload 2\n",
    "from data import generate_happy_face\n",
    "\n",
    "# Make sure our diffusion process actually diffuses the data\n",
    "data = generate_happy_face(num_samples=500)\n",
    "sde.plot_forward_diffusion(data)"
   ]
  },
  {
   "cell_type": "code",
   "execution_count": null,
   "metadata": {},
   "outputs": [],
   "source": [
    "%load_ext autoreload\n",
    "%autoreload 2\n",
    "from torch.utils.data import DataLoader, TensorDataset\n",
    "from training import train_score_network\n",
    "from model import MLP\n",
    "\n",
    "\n",
    "data = generate_happy_face(num_samples=4000)\n",
    "dataloader = DataLoader(TensorDataset(data), batch_size=500, shuffle=True)\n",
    "score_net = MLP()\n",
    "train_score_network(dataloader, score_net, sde)"
   ]
  }
 ],
 "metadata": {
  "kernelspec": {
   "display_name": "bridge_test",
   "language": "python",
   "name": "python3"
  },
  "language_info": {
   "codemirror_mode": {
    "name": "ipython",
    "version": 3
   },
   "file_extension": ".py",
   "mimetype": "text/x-python",
   "name": "python",
   "nbconvert_exporter": "python",
   "pygments_lexer": "ipython3",
   "version": "3.11.6"
  }
 },
 "nbformat": 4,
 "nbformat_minor": 2
}
