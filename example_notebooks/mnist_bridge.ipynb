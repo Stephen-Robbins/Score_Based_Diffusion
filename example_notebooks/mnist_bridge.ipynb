{
 "cells": [
  {
   "cell_type": "code",
   "execution_count": 1,
   "metadata": {},
   "outputs": [
    {
     "name": "stdout",
     "output_type": "stream",
     "text": [
      "Changed working directory to: /Users/stephenrobbins/Documents/Documents-Stephens_MacBook_Pro/Python/Random/Diffusion_project\n"
     ]
    }
   ],
   "source": [
    "import os\n",
    "import subprocess\n",
    "\n",
    "def git_repo_root():\n",
    "    # Run the 'git rev-parse --show-toplevel' command to get the root directory of the Git repository\n",
    "    try:\n",
    "        root = subprocess.check_output(['git', 'rev-parse', '--show-toplevel'], universal_newlines=True).strip()\n",
    "        return root\n",
    "    except subprocess.CalledProcessError:\n",
    "        # Handle the case where the current directory is not inside a Git repository\n",
    "        return None\n",
    "\n",
    "# Get the root directory of the Git repository\n",
    "git_root = git_repo_root()\n",
    "\n",
    "if git_root:\n",
    "    # Change the working directory to the root of the Git repository\n",
    "    os.chdir(git_root)\n",
    "    print(f\"Changed working directory to: {git_root}\")\n",
    "else:\n",
    "    print(\"Not inside a Git repository.\")"
   ]
  },
  {
   "cell_type": "code",
   "execution_count": 2,
   "metadata": {},
   "outputs": [
    {
     "name": "stderr",
     "output_type": "stream",
     "text": [
      "/Users/stephenrobbins/opt/anaconda3/envs/bridge_test/lib/python3.11/site-packages/tqdm/auto.py:21: TqdmWarning: IProgress not found. Please update jupyter and ipywidgets. See https://ipywidgets.readthedocs.io/en/stable/user_install.html\n",
      "  from .autonotebook import tqdm as notebook_tqdm\n",
      "2023-12-08 16:04:25.258254: I tensorflow/core/platform/cpu_feature_guard.cc:182] This TensorFlow binary is optimized to use available CPU instructions in performance-critical operations.\n",
      "To enable the following instructions: AVX2 FMA, in other operations, rebuild TensorFlow with the appropriate compiler flags.\n"
     ]
    }
   ],
   "source": [
    "\n",
    "import torch\n",
    "import torchvision\n",
    "from matplotlib import pyplot as plt\n",
    "import torchvision.transforms as transforms\n",
    "from torch.utils.data import DataLoader\n",
    "from diffusion import BridgeDiffusionVPSDE\n",
    "from training import train_score_network_mnist\n",
    "from denoising_diffusion_pytorch import Unet\n"
   ]
  },
  {
   "cell_type": "code",
   "execution_count": 4,
   "metadata": {},
   "outputs": [],
   "source": [
    "device = 'cpu'\n",
    "\n",
    "''' hyper params'''\n",
    "n_epochs =   50\n",
    "batch_size =  32"
   ]
  },
  {
   "cell_type": "code",
   "execution_count": 5,
   "metadata": {},
   "outputs": [],
   "source": [
    "class CorrectEMNISTOrientation(object):\n",
    "    def __call__(self, img):\n",
    "        # Rotate 90 degrees counter-clockwise\n",
    "        img = transforms.functional.rotate(img, -90)\n",
    "        # Flip horizontally\n",
    "        img = transforms.functional.hflip(img)\n",
    "        return img\n",
    "\n",
    "tfm = transforms.Compose([transforms.ToTensor(), transforms.Pad(2)])\n",
    "emnist_tfm = transforms.Compose([transforms.ToTensor(),transforms.Pad(2),CorrectEMNISTOrientation()])\n",
    "\n",
    "# Load MNIST dataset\n",
    "mnist_data = torchvision.datasets.MNIST('./data/', transform=tfm, download=True)\n",
    "mnist_loader = DataLoader(mnist_data, batch_size=batch_size, shuffle=True)\n",
    "\n",
    "# Load EMNIST dataset\n",
    "emnist_data = torchvision.datasets.EMNIST('./data/', 'letters', transform=emnist_tfm, download=True)\n",
    "emnist_loader = DataLoader(emnist_data, batch_size=batch_size, shuffle=True)\n",
    "\n",
    "def data_y(n):\n",
    "    # Create a new DataLoader with batch_size = n\n",
    "    temp_loader = DataLoader(emnist_data, batch_size=n, shuffle=True)\n",
    "\n",
    "    # Fetch one batch of data\n",
    "    for data, labels in temp_loader:\n",
    "        return data # This returns n samples\n",
    "\n",
    "model = Unet(out_dim=1, channels = 2, dim = 32).to(device)\n",
    "# I think the noise level might affect training. I traned 50 epochs at \n",
    "# .2 noise and didn't get good results. Note we want noise to be symmetric \n",
    "# so thats why bmin=bmax right now\n",
    "sde = BridgeDiffusionVPSDE(data_y,  bmin=0.5, bmax=0.5, device = device)"
   ]
  },
  {
   "cell_type": "code",
   "execution_count": null,
   "metadata": {},
   "outputs": [],
   "source": [
    "train_score_network_mnist(mnist_loader, model, sde, epochs=50, bridge=True)\n",
    "torch.save(model.state_dict(), 'model_weights.pth')"
   ]
  },
  {
   "cell_type": "code",
   "execution_count": null,
   "metadata": {},
   "outputs": [],
   "source": [
    "model = Unet(out_dim=1, channels = 2, dim = 32).to(device)  \n",
    "model.load_state_dict(torch.load('model_weights.pth'))\n",
    "sde.plot_diffusion(model, data_shape=(5, 1, 32, 32))"
   ]
  }
 ],
 "metadata": {
  "kernelspec": {
   "display_name": "bridge_test",
   "language": "python",
   "name": "python3"
  },
  "language_info": {
   "codemirror_mode": {
    "name": "ipython",
    "version": 3
   },
   "file_extension": ".py",
   "mimetype": "text/x-python",
   "name": "python",
   "nbconvert_exporter": "python",
   "pygments_lexer": "ipython3",
   "version": "3.11.4"
  }
 },
 "nbformat": 4,
 "nbformat_minor": 2
}
