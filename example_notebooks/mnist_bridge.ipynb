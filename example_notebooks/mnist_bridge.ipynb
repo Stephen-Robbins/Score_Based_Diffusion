{
 "cells": [
  {
   "cell_type": "code",
   "execution_count": 1,
   "metadata": {},
   "outputs": [
    {
     "name": "stdout",
     "output_type": "stream",
     "text": [
      "Changed working directory to: /Users/stephenrobbins/Documents/Documents-Stephens_MacBook_Pro/Python/Random/Diffusion_project\n"
     ]
    }
   ],
   "source": [
    "import os\n",
    "import subprocess\n",
    "\n",
    "def git_repo_root():\n",
    "    # Run the 'git rev-parse --show-toplevel' command to get the root directory of the Git repository\n",
    "    try:\n",
    "        root = subprocess.check_output(['git', 'rev-parse', '--show-toplevel'], universal_newlines=True).strip()\n",
    "        return root\n",
    "    except subprocess.CalledProcessError:\n",
    "        # Handle the case where the current directory is not inside a Git repository\n",
    "        return None\n",
    "\n",
    "# Get the root directory of the Git repository\n",
    "git_root = git_repo_root()\n",
    "\n",
    "if git_root:\n",
    "    # Change the working directory to the root of the Git repository\n",
    "    os.chdir(git_root)\n",
    "    print(f\"Changed working directory to: {git_root}\")\n",
    "else:\n",
    "    print(\"Not inside a Git repository.\")"
   ]
  },
  {
   "cell_type": "code",
   "execution_count": 2,
   "metadata": {},
   "outputs": [],
   "source": [
    "\n",
    "import torch\n",
    "import torchvision\n",
    "from matplotlib import pyplot as plt\n",
    "import torchvision.transforms as transforms\n",
    "\n",
    "from torch.utils.data import DataLoader\n"
   ]
  },
  {
   "cell_type": "code",
   "execution_count": 3,
   "metadata": {},
   "outputs": [],
   "source": [
    "device = 'cpu'\n",
    "\n",
    "''' hyper params'''\n",
    "n_epochs =   50\n",
    "batch_size =  4"
   ]
  },
  {
   "cell_type": "code",
   "execution_count": 6,
   "metadata": {},
   "outputs": [
    {
     "name": "stdout",
     "output_type": "stream",
     "text": [
      "The autoreload extension is already loaded. To reload it, use:\n",
      "  %reload_ext autoreload\n"
     ]
    },
    {
     "data": {
      "image/png": "[encoded data removed]",
      "text/plain": [
       "<Figure size 640x480 with 5 Axes>"
      ]
     },
     "metadata": {},
     "output_type": "display_data"
    },
    {
     "name": "stderr",
     "output_type": "stream",
     "text": [
      "  0%|          | 0/10 [00:24<?, ?it/s]\n"
     ]
    },
    {
     "ename": "KeyboardInterrupt",
     "evalue": "",
     "output_type": "error",
     "traceback": [
      "\u001b[0;31m---------------------------------------------------------------------------\u001b[0m",
      "\u001b[0;31mKeyboardInterrupt\u001b[0m                         Traceback (most recent call last)",
      "\u001b[1;32m/Users/stephenrobbins/Documents/Documents-Stephens_MacBook_Pro/Python/Random/Diffusion_project/example_notebooks/mnist_bridge.ipynb Cell 4\u001b[0m line \u001b[0;36m3\n\u001b[1;32m     <a href='vscode-notebook-cell:/Users/stephenrobbins/Documents/Documents-Stephens_MacBook_Pro/Python/Random/Diffusion_project/example_notebooks/mnist_bridge.ipynb#W3sZmlsZQ%3D%3D?line=33'>34</a>\u001b[0m model \u001b[39m=\u001b[39m Unet(out_dim\u001b[39m=\u001b[39m\u001b[39m1\u001b[39m, channels \u001b[39m=\u001b[39m \u001b[39m2\u001b[39m, dim \u001b[39m=\u001b[39m \u001b[39m32\u001b[39m)\u001b[39m.\u001b[39mto(device)\n\u001b[1;32m     <a href='vscode-notebook-cell:/Users/stephenrobbins/Documents/Documents-Stephens_MacBook_Pro/Python/Random/Diffusion_project/example_notebooks/mnist_bridge.ipynb#W3sZmlsZQ%3D%3D?line=34'>35</a>\u001b[0m sde \u001b[39m=\u001b[39m BridgeDiffusionVPSDE(data_y,  bmin\u001b[39m=\u001b[39m\u001b[39m0.2\u001b[39m, bmax\u001b[39m=\u001b[39m\u001b[39m0.2\u001b[39m, device \u001b[39m=\u001b[39m device)\n\u001b[0;32m---> <a href='vscode-notebook-cell:/Users/stephenrobbins/Documents/Documents-Stephens_MacBook_Pro/Python/Random/Diffusion_project/example_notebooks/mnist_bridge.ipynb#W3sZmlsZQ%3D%3D?line=35'>36</a>\u001b[0m train_score_network_mnist(mnist_loader, model, sde, epochs\u001b[39m=\u001b[39;49m\u001b[39m10\u001b[39;49m, bridge\u001b[39m=\u001b[39;49m\u001b[39mTrue\u001b[39;49;00m)\n",
      "File \u001b[0;32m~/Documents/Documents-Stephens_MacBook_Pro/Python/Random/Diffusion_project/training.py:119\u001b[0m, in \u001b[0;36mtrain_score_network_mnist\u001b[0;34m(dataloader, score_net, sde, epochs, bridge)\u001b[0m\n\u001b[1;32m    117\u001b[0m optimizer\u001b[39m.\u001b[39mzero_grad()\n\u001b[1;32m    118\u001b[0m loss \u001b[39m=\u001b[39m loss_function(score_net, x, sde, bridge\u001b[39m=\u001b[39mbridge)\n\u001b[0;32m--> 119\u001b[0m loss\u001b[39m.\u001b[39;49mbackward()\n\u001b[1;32m    120\u001b[0m nn\u001b[39m.\u001b[39mutils\u001b[39m.\u001b[39mclip_grad_norm_(score_net\u001b[39m.\u001b[39mparameters(), \u001b[39m1.0\u001b[39m)\n\u001b[1;32m    121\u001b[0m optimizer\u001b[39m.\u001b[39mstep()\n",
      "File \u001b[0;32m~/opt/anaconda3/envs/bridge_test/lib/python3.11/site-packages/torch/_tensor.py:487\u001b[0m, in \u001b[0;36mTensor.backward\u001b[0;34m(self, gradient, retain_graph, create_graph, inputs)\u001b[0m\n\u001b[1;32m    477\u001b[0m \u001b[39mif\u001b[39;00m has_torch_function_unary(\u001b[39mself\u001b[39m):\n\u001b[1;32m    478\u001b[0m     \u001b[39mreturn\u001b[39;00m handle_torch_function(\n\u001b[1;32m    479\u001b[0m         Tensor\u001b[39m.\u001b[39mbackward,\n\u001b[1;32m    480\u001b[0m         (\u001b[39mself\u001b[39m,),\n\u001b[0;32m   (...)\u001b[0m\n\u001b[1;32m    485\u001b[0m         inputs\u001b[39m=\u001b[39minputs,\n\u001b[1;32m    486\u001b[0m     )\n\u001b[0;32m--> 487\u001b[0m torch\u001b[39m.\u001b[39;49mautograd\u001b[39m.\u001b[39;49mbackward(\n\u001b[1;32m    488\u001b[0m     \u001b[39mself\u001b[39;49m, gradient, retain_graph, create_graph, inputs\u001b[39m=\u001b[39;49minputs\n\u001b[1;32m    489\u001b[0m )\n",
      "File \u001b[0;32m~/opt/anaconda3/envs/bridge_test/lib/python3.11/site-packages/torch/autograd/__init__.py:200\u001b[0m, in \u001b[0;36mbackward\u001b[0;34m(tensors, grad_tensors, retain_graph, create_graph, grad_variables, inputs)\u001b[0m\n\u001b[1;32m    195\u001b[0m     retain_graph \u001b[39m=\u001b[39m create_graph\n\u001b[1;32m    197\u001b[0m \u001b[39m# The reason we repeat same the comment below is that\u001b[39;00m\n\u001b[1;32m    198\u001b[0m \u001b[39m# some Python versions print out the first line of a multi-line function\u001b[39;00m\n\u001b[1;32m    199\u001b[0m \u001b[39m# calls in the traceback and some print out the last line\u001b[39;00m\n\u001b[0;32m--> 200\u001b[0m Variable\u001b[39m.\u001b[39;49m_execution_engine\u001b[39m.\u001b[39;49mrun_backward(  \u001b[39m# Calls into the C++ engine to run the backward pass\u001b[39;49;00m\n\u001b[1;32m    201\u001b[0m     tensors, grad_tensors_, retain_graph, create_graph, inputs,\n\u001b[1;32m    202\u001b[0m     allow_unreachable\u001b[39m=\u001b[39;49m\u001b[39mTrue\u001b[39;49;00m, accumulate_grad\u001b[39m=\u001b[39;49m\u001b[39mTrue\u001b[39;49;00m)\n",
      "\u001b[0;31mKeyboardInterrupt\u001b[0m: "
     ]
    }
   ],
   "source": [
    "%load_ext autoreload\n",
    "%autoreload 2\n",
    "from diffusion import BridgeDiffusionVPSDE\n",
    "from training import train_score_network_mnist\n",
    "from denoising_diffusion_pytorch import Unet\n",
    "\n",
    "class CorrectEMNISTOrientation(object):\n",
    "    def __call__(self, img):\n",
    "        # Rotate 90 degrees counter-clockwise\n",
    "        img = transforms.functional.rotate(img, -90)\n",
    "        # Flip horizontally\n",
    "        img = transforms.functional.hflip(img)\n",
    "        return img\n",
    "\n",
    "tfm = transforms.Compose([transforms.ToTensor(), transforms.Pad(2)])\n",
    "emnist_tfm = transforms.Compose([transforms.ToTensor(),transforms.Pad(2),CorrectEMNISTOrientation()])\n",
    "\n",
    "# Load MNIST dataset\n",
    "mnist_data = torchvision.datasets.MNIST('./data/', transform=tfm, download=True)\n",
    "mnist_loader = DataLoader(mnist_data, batch_size=batch_size, shuffle=True)\n",
    "\n",
    "# Load EMNIST dataset\n",
    "emnist_data = torchvision.datasets.EMNIST('./data/', 'letters', transform=emnist_tfm, download=True)\n",
    "emnist_loader = DataLoader(emnist_data, batch_size=batch_size, shuffle=True)\n",
    "\n",
    "def data_y(n):\n",
    "    # Create a new DataLoader with batch_size = n\n",
    "    temp_loader = DataLoader(emnist_data, batch_size=n, shuffle=True)\n",
    "\n",
    "    # Fetch one batch of data\n",
    "    for data, labels in temp_loader:\n",
    "        return data # This returns n samples\n",
    "\n",
    "model = Unet(out_dim=1, channels = 2, dim = 32).to(device)\n",
    "sde = BridgeDiffusionVPSDE(data_y,  bmin=0.2, bmax=0.2, device = device)\n",
    "train_score_network_mnist(mnist_loader, model, sde, epochs=10, bridge=True)"
   ]
  },
  {
   "cell_type": "code",
   "execution_count": null,
   "metadata": {},
   "outputs": [],
   "source": []
  },
  {
   "cell_type": "code",
   "execution_count": null,
   "metadata": {},
   "outputs": [],
   "source": []
  }
 ],
 "metadata": {
  "kernelspec": {
   "display_name": "bridge_test",
   "language": "python",
   "name": "python3"
  },
  "language_info": {
   "codemirror_mode": {
    "name": "ipython",
    "version": 3
   },
   "file_extension": ".py",
   "mimetype": "text/x-python",
   "name": "python",
   "nbconvert_exporter": "python",
   "pygments_lexer": "ipython3",
   "version": "3.11.4"
  }
 },
 "nbformat": 4,
 "nbformat_minor": 2
}
