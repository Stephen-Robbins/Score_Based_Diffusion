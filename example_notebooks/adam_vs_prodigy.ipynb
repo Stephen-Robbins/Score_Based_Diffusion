{
 "cells": [
  {
   "cell_type": "code",
   "execution_count": null,
   "metadata": {},
   "outputs": [],
   "source": [
    "import os\n",
    "import subprocess\n",
    "\n",
    "def git_repo_root():\n",
    "    # Run the 'git rev-parse --show-toplevel' command to get the root directory of the Git repository\n",
    "    try:\n",
    "        root = subprocess.check_output(['git', 'rev-parse', '--show-toplevel'], universal_newlines=True).strip()\n",
    "        return root\n",
    "    except subprocess.CalledProcessError:\n",
    "        # Handle the case where the current directory is not inside a Git repository\n",
    "        return None\n",
    "\n",
    "# Get the root directory of the Git repository\n",
    "git_root = git_repo_root()\n",
    "\n",
    "if git_root:\n",
    "    # Change the working directory to the root of the Git repository\n",
    "    os.chdir(git_root)\n",
    "    print(f\"Changed working directory to: {git_root}\")\n",
    "else:\n",
    "    print(\"Not inside a Git repository.\")"
   ]
  },
  {
   "cell_type": "code",
   "execution_count": null,
   "metadata": {},
   "outputs": [],
   "source": [
    "%load_ext autoreload\n",
    "%autoreload 2\n",
    "\n",
    "from diffusion import VPSDE\n",
    "from data import generate_mixture_gaussians\n",
    "\n",
    "epochs = 10\n",
    "# Make sure our diffusion process actually diffuses the data\n",
    "data = generate_mixture_gaussians()\n",
    "num_steps = 250\n",
    "sde = VPSDE(num_steps, 0.1, 20, logarithmic_scheduling=True)\n",
    "sde.plot_forward_diffusion(data)"
   ]
  },
  {
   "cell_type": "code",
   "execution_count": null,
   "metadata": {},
   "outputs": [],
   "source": [
    "from training import get_optimizer, loss_function\n",
    "from diffusion import match_dim\n",
    "from data import log_likelihood_mixture_gaussians_batch\n",
    "from tqdm import tqdm\n",
    "from matplotlib import pyplot as plt\n",
    "import numpy as np\n",
    "\n",
    "def train_score_network(dataloader, score_net, sde, epochs=epochs, bridge=False):\n",
    "    \"\"\"\n",
    "    Trains the score network\n",
    "\n",
    "    \"\"\"\n",
    "\n",
    "    optimizer = get_optimizer(score_net)\n",
    "    avg = 0\n",
    "    for epoch in tqdm(range(epochs)):\n",
    "        for x_batch, in dataloader:\n",
    "            optimizer.zero_grad()\n",
    "            loss = loss_function(score_net, x_batch, sde, bridge=bridge)\n",
    "            loss.backward()\n",
    "            # nn.utils.clip_grad_norm_(score_net.parameters(), 1.0)\n",
    "            optimizer.step()\n",
    "            avg += loss\n",
    "        \n",
    "        # Print the log loss for the Gaussian mixture\n",
    "        ll = 0\n",
    "        for x_batch, in dataloader:\n",
    "            ll += log_likelihood_mixture_gaussians_batch(x_batch).sum()\n",
    "        print(f'Epoch: {epoch} and Log Likelihood: {ll}')        \n",
    "\n",
    "        if ((epoch % 1000 == 0 and epoch != 0) or epoch == epochs-1):\n",
    "            tqdm.write(f'Epoch: {epoch} and Loss: {avg/(8*1000)}')\n",
    "            avg = 0\n",
    "            samples = sde.backward_diffusion(score_net)\n",
    "            data = x_batch.detach().numpy()\n",
    "            samples_np = samples.detach().numpy()\n",
    "            plt.scatter(data[:, 0], data[:, 1], label='Original Data')\n",
    "            plt.scatter(samples_np[:, 0], samples_np[:,\n",
    "                        1], label='Generated Samples')\n",
    "            plt.legend()\n",
    "            plt.show()"
   ]
  },
  {
   "cell_type": "code",
   "execution_count": null,
   "metadata": {},
   "outputs": [],
   "source": [
    "from torch.utils.data import DataLoader, TensorDataset\n",
    "from model import MLP\n",
    "\n",
    "data = generate_mixture_gaussians(num_samples=4000)\n",
    "dataloader = DataLoader(TensorDataset(data), batch_size=500, shuffle=True)\n",
    "score_net = MLP()\n",
    "train_score_network(dataloader, score_net, sde)"
   ]
  },
  {
   "cell_type": "code",
   "execution_count": null,
   "metadata": {},
   "outputs": [],
   "source": []
  }
 ],
 "metadata": {
  "kernelspec": {
   "display_name": "bridge_test",
   "language": "python",
   "name": "python3"
  },
  "language_info": {
   "codemirror_mode": {
    "name": "ipython",
    "version": 3
   },
   "file_extension": ".py",
   "mimetype": "text/x-python",
   "name": "python",
   "nbconvert_exporter": "python",
   "pygments_lexer": "ipython3",
   "version": "3.10.12"
  }
 },
 "nbformat": 4,
 "nbformat_minor": 2
}
