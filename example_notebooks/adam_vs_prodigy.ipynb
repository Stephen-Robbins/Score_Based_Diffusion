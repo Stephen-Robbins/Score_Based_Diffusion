{
 "cells": [
  {
   "cell_type": "code",
   "execution_count": 1,
   "metadata": {},
   "outputs": [
    {
     "name": "stdout",
     "output_type": "stream",
     "text": [
      "Changed working directory to: C:/Users/tomas/Documents/GitHub/2dDiffusion\n"
     ]
    }
   ],
   "source": [
    "import os\n",
    "import subprocess\n",
    "\n",
    "def git_repo_root():\n",
    "    # Run the 'git rev-parse --show-toplevel' command to get the root directory of the Git repository\n",
    "    try:\n",
    "        root = subprocess.check_output(['git', 'rev-parse', '--show-toplevel'], universal_newlines=True).strip()\n",
    "        return root\n",
    "    except subprocess.CalledProcessError:\n",
    "        # Handle the case where the current directory is not inside a Git repository\n",
    "        return None\n",
    "\n",
    "# Get the root directory of the Git repository\n",
    "git_root = git_repo_root()\n",
    "\n",
    "if git_root:\n",
    "    # Change the working directory to the root of the Git repository\n",
    "    os.chdir(git_root)\n",
    "    print(f\"Changed working directory to: {git_root}\")\n",
    "else:\n",
    "    print(\"Not inside a Git repository.\")"
   ]
  },
  {
   "cell_type": "code",
   "execution_count": 2,
   "metadata": {},
   "outputs": [],
   "source": [
    "%load_ext autoreload\n",
    "%autoreload 2\n",
    "\n",
    "from diffusion import VPSDE\n",
    "from data import generate_mixture_gaussians\n",
    "\n",
    "epochs = 5000\n",
    "# Make sure our diffusion process actually diffuses the data\n",
    "data = generate_mixture_gaussians()\n",
    "num_steps = 250"
   ]
  },
  {
   "cell_type": "code",
   "execution_count": 3,
   "metadata": {},
   "outputs": [],
   "source": [
    "from training import loss_function\n",
    "import torch\n",
    "from diffusion import match_dim\n",
    "from data import log_likelihood_mixture_gaussians_batch\n",
    "from tqdm import tqdm\n",
    "from matplotlib import pyplot as plt\n",
    "import numpy as np\n",
    "from prodigyopt import Prodigy\n",
    "\n",
    "def train_score_network(dataloader, score_net, sde, epochs=epochs, bridge=False, optimizer_str='adam', learning_rate=1e-4):\n",
    "    \"\"\"\n",
    "    Trains the score network\n",
    "\n",
    "    \"\"\"\n",
    "    optimizer = None\n",
    "    if optimizer_str == 'adam':\n",
    "        optimizer = torch.optim.Adam(score_net.parameters(), lr=learning_rate)\n",
    "    else:\n",
    "        optimizer = Prodigy(score_net.parameters())\n",
    "    avg = 0\n",
    "    epoch_ll = []\n",
    "    ll_mean = []\n",
    "    ll_std = []\n",
    "    for epoch in tqdm(range(epochs)):\n",
    "        for x_batch, in dataloader:\n",
    "            optimizer.zero_grad()\n",
    "            loss = loss_function(score_net, x_batch, sde, bridge=bridge)\n",
    "            loss.backward()\n",
    "            # nn.utils.clip_grad_norm_(score_net.parameters(), 1.0)\n",
    "            optimizer.step()\n",
    "            avg += loss\n",
    "        \n",
    "        if epoch % 10 == 0:\n",
    "            samples = sde.backward_diffusion(score_net, data_shape=(1000, 2)).detach()\n",
    "            lls = log_likelihood_mixture_gaussians_batch(samples).numpy()\n",
    "            ll_mean.append(lls.mean())\n",
    "            ll_std.append(lls.std())\n",
    "            epoch_ll.append(epoch)\n",
    "\n",
    "\n",
    "        if (((epoch + 1) % 500 == 0 and epoch != 0) or epoch == epochs-1):\n",
    "            tqdm.write(f'Epoch: {epoch} and Loss: {avg/(8*1000)}')\n",
    "            avg = 0\n",
    "            # samples = sde.backward_diffusion(score_net, data_shape=(1000, 2))\n",
    "            # data = x_batch.detach().numpy()\n",
    "            # samples_np = samples.detach().numpy()\n",
    "            # lls = log_likelihood_mixture_gaussians_batch(samples)\n",
    "            # tqdm.write(f'Log Likelihood mean: {lls.mean()} and std: {lls.std()}')\n",
    "            # plt.scatter(data[:, 0], data[:, 1], label='Original Data')\n",
    "            # plt.scatter(samples_np[:, 0], samples_np[:,1], label='Generated Samples')\n",
    "            # plt.legend()\n",
    "            # plt.show()\n",
    "    \n",
    "    # plot log-likelihood mean across epochs with std shaded on top\n",
    "    return ll_mean, ll_std, epoch_ll\n",
    "    \n"
   ]
  },
  {
   "cell_type": "code",
   "execution_count": 4,
   "metadata": {},
   "outputs": [
    {
     "name": "stderr",
     "output_type": "stream",
     "text": [
      "  0%|          | 0/5000 [00:00<?, ?it/s]C:\\Users\\tomas\\AppData\\Local\\Packages\\PythonSoftwareFoundation.Python.3.10_qbz5n2kfra8p0\\LocalCache\\local-packages\\Python310\\site-packages\\numpy\\core\\_methods.py:173: RuntimeWarning: invalid value encountered in subtract\n",
      "  x = asanyarray(arr - arrmean)\n",
      " 10%|▉         | 499/5000 [01:01<06:18, 11.90it/s]"
     ]
    },
    {
     "name": "stdout",
     "output_type": "stream",
     "text": [
      "Epoch: 499 and Loss: 0.1012878566980362\n"
     ]
    },
    {
     "name": "stderr",
     "output_type": "stream",
     "text": [
      " 20%|█▉        | 999/5000 [02:01<05:30, 12.11it/s]"
     ]
    },
    {
     "name": "stdout",
     "output_type": "stream",
     "text": [
      "Epoch: 999 and Loss: 0.09466676414012909\n"
     ]
    },
    {
     "name": "stderr",
     "output_type": "stream",
     "text": [
      " 30%|██▉       | 1499/5000 [03:02<06:12,  9.39it/s]"
     ]
    },
    {
     "name": "stdout",
     "output_type": "stream",
     "text": [
      "Epoch: 1499 and Loss: 0.09449435770511627\n"
     ]
    },
    {
     "name": "stderr",
     "output_type": "stream",
     "text": [
      " 40%|███▉      | 1999/5000 [04:03<04:03, 12.30it/s]"
     ]
    },
    {
     "name": "stdout",
     "output_type": "stream",
     "text": [
      "Epoch: 1999 and Loss: 0.09291846305131912\n"
     ]
    },
    {
     "name": "stderr",
     "output_type": "stream",
     "text": [
      " 50%|████▉     | 2499/5000 [05:03<03:24, 12.23it/s]"
     ]
    },
    {
     "name": "stdout",
     "output_type": "stream",
     "text": [
      "Epoch: 2499 and Loss: 0.09331826120615005\n"
     ]
    },
    {
     "name": "stderr",
     "output_type": "stream",
     "text": [
      " 60%|█████▉    | 2999/5000 [06:04<02:42, 12.30it/s]"
     ]
    },
    {
     "name": "stdout",
     "output_type": "stream",
     "text": [
      "Epoch: 2999 and Loss: 0.09332603216171265\n"
     ]
    },
    {
     "name": "stderr",
     "output_type": "stream",
     "text": [
      " 70%|██████▉   | 3499/5000 [07:04<02:01, 12.32it/s]"
     ]
    },
    {
     "name": "stdout",
     "output_type": "stream",
     "text": [
      "Epoch: 3499 and Loss: 0.0930807814002037\n"
     ]
    },
    {
     "name": "stderr",
     "output_type": "stream",
     "text": [
      " 80%|███████▉  | 3999/5000 [08:05<01:22, 12.18it/s]"
     ]
    },
    {
     "name": "stdout",
     "output_type": "stream",
     "text": [
      "Epoch: 3999 and Loss: 0.09347859025001526\n"
     ]
    },
    {
     "name": "stderr",
     "output_type": "stream",
     "text": [
      " 90%|████████▉ | 4499/5000 [09:06<00:47, 10.61it/s]"
     ]
    },
    {
     "name": "stdout",
     "output_type": "stream",
     "text": [
      "Epoch: 4499 and Loss: 0.09328360110521317\n"
     ]
    },
    {
     "name": "stderr",
     "output_type": "stream",
     "text": [
      "100%|██████████| 5000/5000 [10:07<00:00,  8.24it/s]\n"
     ]
    },
    {
     "name": "stdout",
     "output_type": "stream",
     "text": [
      "Epoch: 4999 and Loss: 0.09365668147802353\n"
     ]
    },
    {
     "name": "stderr",
     "output_type": "stream",
     "text": [
      " 10%|▉         | 499/5000 [01:01<06:29, 11.54it/s]"
     ]
    },
    {
     "name": "stdout",
     "output_type": "stream",
     "text": [
      "Epoch: 499 and Loss: 0.8388113975524902\n"
     ]
    },
    {
     "name": "stderr",
     "output_type": "stream",
     "text": [
      " 20%|█▉        | 999/5000 [02:02<05:36, 11.89it/s]"
     ]
    },
    {
     "name": "stdout",
     "output_type": "stream",
     "text": [
      "Epoch: 999 and Loss: 0.8132212162017822\n"
     ]
    },
    {
     "name": "stderr",
     "output_type": "stream",
     "text": [
      " 30%|██▉       | 1499/5000 [03:03<04:53, 11.92it/s]"
     ]
    },
    {
     "name": "stdout",
     "output_type": "stream",
     "text": [
      "Epoch: 1499 and Loss: 0.810920238494873\n"
     ]
    },
    {
     "name": "stderr",
     "output_type": "stream",
     "text": [
      " 40%|███▉      | 1999/5000 [04:04<04:10, 11.96it/s]"
     ]
    },
    {
     "name": "stdout",
     "output_type": "stream",
     "text": [
      "Epoch: 1999 and Loss: 0.8099915385246277\n"
     ]
    },
    {
     "name": "stderr",
     "output_type": "stream",
     "text": [
      " 50%|████▉     | 2499/5000 [05:05<03:25, 12.17it/s]"
     ]
    },
    {
     "name": "stdout",
     "output_type": "stream",
     "text": [
      "Epoch: 2499 and Loss: 0.8065499067306519\n"
     ]
    },
    {
     "name": "stderr",
     "output_type": "stream",
     "text": [
      " 60%|█████▉    | 2999/5000 [06:06<02:45, 12.11it/s]"
     ]
    },
    {
     "name": "stdout",
     "output_type": "stream",
     "text": [
      "Epoch: 2999 and Loss: 0.8064859509468079\n"
     ]
    },
    {
     "name": "stderr",
     "output_type": "stream",
     "text": [
      " 70%|██████▉   | 3499/5000 [07:07<02:04, 12.10it/s]"
     ]
    },
    {
     "name": "stdout",
     "output_type": "stream",
     "text": [
      "Epoch: 3499 and Loss: 0.803593099117279\n"
     ]
    },
    {
     "name": "stderr",
     "output_type": "stream",
     "text": [
      " 80%|███████▉  | 3999/5000 [08:09<01:22, 12.10it/s]"
     ]
    },
    {
     "name": "stdout",
     "output_type": "stream",
     "text": [
      "Epoch: 3999 and Loss: 0.8057302832603455\n"
     ]
    },
    {
     "name": "stderr",
     "output_type": "stream",
     "text": [
      " 90%|████████▉ | 4499/5000 [09:10<00:41, 12.18it/s]"
     ]
    },
    {
     "name": "stdout",
     "output_type": "stream",
     "text": [
      "Epoch: 4499 and Loss: 0.804582953453064\n"
     ]
    },
    {
     "name": "stderr",
     "output_type": "stream",
     "text": [
      "100%|██████████| 5000/5000 [10:11<00:00,  8.18it/s]\n"
     ]
    },
    {
     "name": "stdout",
     "output_type": "stream",
     "text": [
      "Epoch: 4999 and Loss: 0.8047876358032227\n"
     ]
    },
    {
     "name": "stderr",
     "output_type": "stream",
     "text": [
      " 10%|▉         | 499/5000 [01:02<06:46, 11.07it/s]"
     ]
    },
    {
     "name": "stdout",
     "output_type": "stream",
     "text": [
      "Epoch: 499 and Loss: 0.09622342139482498\n"
     ]
    },
    {
     "name": "stderr",
     "output_type": "stream",
     "text": [
      " 20%|█▉        | 999/5000 [02:04<05:54, 11.28it/s]"
     ]
    },
    {
     "name": "stdout",
     "output_type": "stream",
     "text": [
      "Epoch: 999 and Loss: 0.09425225853919983\n"
     ]
    },
    {
     "name": "stderr",
     "output_type": "stream",
     "text": [
      " 30%|██▉       | 1499/5000 [03:08<05:14, 11.13it/s]"
     ]
    },
    {
     "name": "stdout",
     "output_type": "stream",
     "text": [
      "Epoch: 1499 and Loss: 0.09368406236171722\n"
     ]
    },
    {
     "name": "stderr",
     "output_type": "stream",
     "text": [
      " 40%|███▉      | 1999/5000 [04:12<04:30, 11.10it/s]"
     ]
    },
    {
     "name": "stdout",
     "output_type": "stream",
     "text": [
      "Epoch: 1999 and Loss: 0.09441777318716049\n"
     ]
    },
    {
     "name": "stderr",
     "output_type": "stream",
     "text": [
      " 50%|████▉     | 2499/5000 [05:17<03:42, 11.23it/s]"
     ]
    },
    {
     "name": "stdout",
     "output_type": "stream",
     "text": [
      "Epoch: 2499 and Loss: 0.09361870586872101\n"
     ]
    },
    {
     "name": "stderr",
     "output_type": "stream",
     "text": [
      " 60%|█████▉    | 2999/5000 [06:22<02:59, 11.16it/s]"
     ]
    },
    {
     "name": "stdout",
     "output_type": "stream",
     "text": [
      "Epoch: 2999 and Loss: 0.09403946250677109\n"
     ]
    },
    {
     "name": "stderr",
     "output_type": "stream",
     "text": [
      " 70%|██████▉   | 3499/5000 [07:29<02:23, 10.49it/s]"
     ]
    },
    {
     "name": "stdout",
     "output_type": "stream",
     "text": [
      "Epoch: 3499 and Loss: 0.09433005005121231\n"
     ]
    },
    {
     "name": "stderr",
     "output_type": "stream",
     "text": [
      " 80%|███████▉  | 3999/5000 [08:35<01:31, 10.98it/s]"
     ]
    },
    {
     "name": "stdout",
     "output_type": "stream",
     "text": [
      "Epoch: 3999 and Loss: 0.09322907030582428\n"
     ]
    },
    {
     "name": "stderr",
     "output_type": "stream",
     "text": [
      " 90%|████████▉ | 4499/5000 [09:41<00:45, 10.91it/s]"
     ]
    },
    {
     "name": "stdout",
     "output_type": "stream",
     "text": [
      "Epoch: 4499 and Loss: 0.09316025674343109\n"
     ]
    },
    {
     "name": "stderr",
     "output_type": "stream",
     "text": [
      "100%|██████████| 5000/5000 [10:47<00:00,  7.72it/s]\n"
     ]
    },
    {
     "name": "stdout",
     "output_type": "stream",
     "text": [
      "Epoch: 4999 and Loss: 0.09340611845254898\n"
     ]
    },
    {
     "name": "stderr",
     "output_type": "stream",
     "text": [
      " 10%|▉         | 499/5000 [01:02<06:23, 11.73it/s]"
     ]
    },
    {
     "name": "stdout",
     "output_type": "stream",
     "text": [
      "Epoch: 499 and Loss: 0.817384660243988\n"
     ]
    },
    {
     "name": "stderr",
     "output_type": "stream",
     "text": [
      " 20%|█▉        | 999/5000 [02:05<05:43, 11.63it/s]"
     ]
    },
    {
     "name": "stdout",
     "output_type": "stream",
     "text": [
      "Epoch: 999 and Loss: 0.8080573678016663\n"
     ]
    },
    {
     "name": "stderr",
     "output_type": "stream",
     "text": [
      " 30%|██▉       | 1499/5000 [03:07<05:01, 11.62it/s]"
     ]
    },
    {
     "name": "stdout",
     "output_type": "stream",
     "text": [
      "Epoch: 1499 and Loss: 0.8054308891296387\n"
     ]
    },
    {
     "name": "stderr",
     "output_type": "stream",
     "text": [
      " 40%|███▉      | 1999/5000 [04:11<04:20, 11.54it/s]"
     ]
    },
    {
     "name": "stdout",
     "output_type": "stream",
     "text": [
      "Epoch: 1999 and Loss: 0.8029020428657532\n"
     ]
    },
    {
     "name": "stderr",
     "output_type": "stream",
     "text": [
      " 50%|████▉     | 2499/5000 [05:14<03:39, 11.40it/s]"
     ]
    },
    {
     "name": "stdout",
     "output_type": "stream",
     "text": [
      "Epoch: 2499 and Loss: 0.7998561859130859\n"
     ]
    },
    {
     "name": "stderr",
     "output_type": "stream",
     "text": [
      " 60%|█████▉    | 2999/5000 [06:18<02:55, 11.43it/s]"
     ]
    },
    {
     "name": "stdout",
     "output_type": "stream",
     "text": [
      "Epoch: 2999 and Loss: 0.8002524971961975\n"
     ]
    },
    {
     "name": "stderr",
     "output_type": "stream",
     "text": [
      " 70%|██████▉   | 3499/5000 [07:22<02:27, 10.16it/s]"
     ]
    },
    {
     "name": "stdout",
     "output_type": "stream",
     "text": [
      "Epoch: 3499 and Loss: 0.7984849810600281\n"
     ]
    },
    {
     "name": "stderr",
     "output_type": "stream",
     "text": [
      " 80%|███████▉  | 3999/5000 [08:28<01:31, 10.90it/s]"
     ]
    },
    {
     "name": "stdout",
     "output_type": "stream",
     "text": [
      "Epoch: 3999 and Loss: 0.7984872460365295\n"
     ]
    },
    {
     "name": "stderr",
     "output_type": "stream",
     "text": [
      " 90%|████████▉ | 4499/5000 [09:32<00:45, 11.03it/s]"
     ]
    },
    {
     "name": "stdout",
     "output_type": "stream",
     "text": [
      "Epoch: 4499 and Loss: 0.7979356050491333\n"
     ]
    },
    {
     "name": "stderr",
     "output_type": "stream",
     "text": [
      "100%|██████████| 5000/5000 [10:37<00:00,  7.84it/s]"
     ]
    },
    {
     "name": "stdout",
     "output_type": "stream",
     "text": [
      "Epoch: 4999 and Loss: 0.7950105667114258\n"
     ]
    },
    {
     "name": "stderr",
     "output_type": "stream",
     "text": [
      "\n"
     ]
    }
   ],
   "source": [
    "from torch.utils.data import DataLoader, TensorDataset\n",
    "from model import MLP\n",
    "\n",
    "\n",
    "data = generate_mixture_gaussians(num_samples=4000)\n",
    "dataloader = DataLoader(TensorDataset(data), batch_size=500, shuffle=True)\n",
    "\n",
    "sde = VPSDE(num_steps, 0.1, 20, logarithmic_scheduling=False)\n",
    "score_net = MLP()\n",
    "ll_mean_alin, ll_std_alin, epoch_ll_alin = train_score_network(dataloader, score_net, sde, optimizer_str='adam', learning_rate=1e-4)\n",
    "\n",
    "\n",
    "sde = VPSDE(num_steps, 0.1, 20, logarithmic_scheduling=True)\n",
    "score_net = MLP()\n",
    "ll_mean_alog, ll_std_alog, epoch_ll_alog = train_score_network(dataloader, score_net, sde, optimizer_str='adam', learning_rate=1e-4)\n",
    "\n",
    "\n",
    "sde = VPSDE(num_steps, 0.1, 20, logarithmic_scheduling=False)\n",
    "score_net = MLP()\n",
    "ll_mean_plin, ll_std_plin, epoch_ll_plin = train_score_network(dataloader, score_net, sde, optimizer_str='prodigy')\n",
    "\n",
    "\n",
    "sde = VPSDE(num_steps, 0.1, 20, logarithmic_scheduling=True)\n",
    "score_net = MLP()\n",
    "ll_mean_plog, ll_std_plog, epoch_ll_plog  = train_score_network(dataloader, score_net, sde, optimizer_str='prodigy')\n",
    "\n",
    "# save the results\n",
    "import pickle\n",
    "results = {\n",
    "    'll_mean_alin': ll_mean_alin,\n",
    "    'll_std_alin': ll_std_alin,\n",
    "    'epoch_ll_alin': epoch_ll_alin,\n",
    "    'll_mean_alog': ll_mean_alog,\n",
    "    'll_std_alog': ll_std_alog,\n",
    "    'epoch_ll_alog': epoch_ll_alog,\n",
    "    'll_mean_plin': ll_mean_plin,\n",
    "    'll_std_plin': ll_std_plin,\n",
    "    'epoch_ll_plin': epoch_ll_plin,\n",
    "    'll_mean_plog': ll_mean_plog,\n",
    "    'll_std_plog': ll_std_plog,\n",
    "    'epoch_ll_plog': epoch_ll_plog\n",
    "}\n",
    "pickle.dump(results, open('llvsepochs.pkl', 'wb'))\n"
   ]
  },
  {
   "cell_type": "code",
   "execution_count": 14,
   "metadata": {},
   "outputs": [
    {
     "name": "stdout",
     "output_type": "stream",
     "text": [
      "['Solarize_Light2', '_classic_test_patch', '_mpl-gallery', '_mpl-gallery-nogrid', 'bmh', 'classic', 'dark_background', 'fast', 'fivethirtyeight', 'ggplot', 'grayscale', 'seaborn-v0_8', 'seaborn-v0_8-bright', 'seaborn-v0_8-colorblind', 'seaborn-v0_8-dark', 'seaborn-v0_8-dark-palette', 'seaborn-v0_8-darkgrid', 'seaborn-v0_8-deep', 'seaborn-v0_8-muted', 'seaborn-v0_8-notebook', 'seaborn-v0_8-paper', 'seaborn-v0_8-pastel', 'seaborn-v0_8-poster', 'seaborn-v0_8-talk', 'seaborn-v0_8-ticks', 'seaborn-v0_8-white', 'seaborn-v0_8-whitegrid', 'tableau-colorblind10']\n"
     ]
    },
    {
     "data": {
      "image/png": "[encoded data removed]",
      "text/plain": [
       "<Figure size 800x400 with 1 Axes>"
      ]
     },
     "metadata": {},
     "output_type": "display_data"
    }
   ],
   "source": [
    "# Load results\n",
    "import pickle\n",
    "results = pickle.load(open('llvsepochs.pkl', 'rb'))\n",
    "ll_mean_alin = results['ll_mean_alin']\n",
    "ll_std_alin = results['ll_std_alin']\n",
    "epoch_ll_alin = results['epoch_ll_alin']\n",
    "ll_mean_alog = results['ll_mean_alog']\n",
    "ll_std_alog = results['ll_std_alog']\n",
    "epoch_ll_alog = results['epoch_ll_alog']\n",
    "ll_mean_plin = results['ll_mean_plin']\n",
    "ll_std_plin = results['ll_std_plin']\n",
    "epoch_ll_plin = results['epoch_ll_plin']\n",
    "ll_mean_plog = results['ll_mean_plog']\n",
    "ll_std_plog = results['ll_std_plog']\n",
    "epoch_ll_plog = results['epoch_ll_plog']\n",
    "\n",
    "from matplotlib import pyplot as plt\n",
    "import numpy as np\n",
    "# Using seaborn's style\n",
    "print(plt.style.available)\n",
    "plt.style.use('seaborn-v0_8')\n",
    "# width = 345\n",
    "\n",
    "tex_fonts = {\n",
    "    # Use LaTeX to write all text\n",
    "    \"text.usetex\": True,\n",
    "    \"font.family\": \"serif\",\n",
    "}\n",
    "\n",
    "plt.rcParams.update(tex_fonts)\n",
    "\n",
    "def plot_ll_vs_epochs(ll_mean, ll_std, epoch_ll, label):\n",
    "    plt.plot(epoch_ll, ll_mean, label=label)\n",
    "    plt.fill_between(epoch_ll, np.array(ll_mean) - np.array(ll_std), np.array(ll_mean) + np.array(ll_std), alpha=0.3)\n",
    "\n",
    "plt.figure(figsize=(8, 4))\n",
    "plot_ll_vs_epochs(ll_mean_alin, ll_std_alin, epoch_ll_alin, 'Adam Linear')\n",
    "plot_ll_vs_epochs(ll_mean_alog, ll_std_alog, epoch_ll_alog, 'Adam Logarithmic')\n",
    "plot_ll_vs_epochs(ll_mean_plin, ll_std_plin, epoch_ll_plin, 'Prodigy Linear')\n",
    "plot_ll_vs_epochs(ll_mean_plog, ll_std_plog, epoch_ll_plog, 'Prodigy Logarithmic')\n",
    "\n",
    "\n",
    "plt.xlim(0, 5000)\n",
    "plt.ylim(-8, 0)\n",
    "plt.ylabel('Mean Log Likelihood')\n",
    "plt.xlabel('Epochs')\n",
    "plt.legend()\n",
    "plt.tight_layout()\n",
    "plt.savefig('ll_vs_epochs.pdf')\n",
    "plt.show()"
   ]
  },
  {
   "cell_type": "code",
   "execution_count": null,
   "metadata": {},
   "outputs": [],
   "source": []
  },
  {
   "cell_type": "code",
   "execution_count": null,
   "metadata": {},
   "outputs": [],
   "source": []
  }
 ],
 "metadata": {
  "kernelspec": {
   "display_name": "bridge_test",
   "language": "python",
   "name": "python3"
  },
  "language_info": {
   "codemirror_mode": {
    "name": "ipython",
    "version": 3
   },
   "file_extension": ".py",
   "mimetype": "text/x-python",
   "name": "python",
   "nbconvert_exporter": "python",
   "pygments_lexer": "ipython3",
   "version": "3.10.11"
  }
 },
 "nbformat": 4,
 "nbformat_minor": 2
}
