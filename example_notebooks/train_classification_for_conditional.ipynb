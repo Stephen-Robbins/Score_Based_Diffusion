{
 "cells": [
  {
   "cell_type": "code",
   "execution_count": null,
   "metadata": {},
   "outputs": [],
   "source": [
    "import os\n",
    "import subprocess\n",
    "\n",
    "def git_repo_root():\n",
    "    # Run the 'git rev-parse --show-toplevel' command to get the root directory of the Git repository\n",
    "    try:\n",
    "        root = subprocess.check_output(['git', 'rev-parse', '--show-toplevel'], universal_newlines=True).strip()\n",
    "        return root\n",
    "    except subprocess.CalledProcessError:\n",
    "        # Handle the case where the current directory is not inside a Git repository\n",
    "        return None\n",
    "\n",
    "# Get the root directory of the Git repository\n",
    "git_root = git_repo_root()\n",
    "\n",
    "if git_root:\n",
    "    # Change the working directory to the root of the Git repository\n",
    "    os.chdir(git_root)\n",
    "    print(f\"Changed working directory to: {git_root}\")\n",
    "else:\n",
    "    print(\"Not inside a Git repository.\")"
   ]
  },
  {
   "cell_type": "code",
   "execution_count": null,
   "metadata": {
    "colab": {
     "base_uri": "https://localhost:8080/"
    },
    "id": "m2BAxLiDA0VS",
    "outputId": "3fd0a669-cede-4530-93c3-8d72d5470814"
   },
   "outputs": [],
   "source": [
    "from diffusion import VPSDE\n",
    "import torchvision\n",
    "from matplotlib import pyplot as plt\n",
    "import torchvision.transforms as transforms\n",
    "from diffusion import VPSDE\n",
    "from torch.utils.data import DataLoader\n",
    "from torch.optim import Adam\n",
    "from guided_diffusion import  train_classification_network_mnist, Net"
   ]
  },
  {
   "cell_type": "code",
   "execution_count": null,
   "metadata": {
    "colab": {
     "base_uri": "https://localhost:8080/"
    },
    "id": "klEqbxlYA0VV",
    "outputId": "9d0b21fa-8f2a-41b2-dd72-efe3cb2db1b0"
   },
   "outputs": [],
   "source": [
    "device = 'cuda'\n",
    "data = 'MNIST'\n",
    "model = Net().to(device)\n",
    "sde = VPSDE(100, 0.1, 20, device = device)\n",
    "\n",
    "''' hyper params'''\n",
    "n_epochs =   50\n",
    "batch_size =  32\n",
    "lr=1e-4\n",
    "optimizer = Adam(model.parameters(), lr=lr)"
   ]
  },
  {
   "cell_type": "code",
   "execution_count": null,
   "metadata": {
    "colab": {
     "base_uri": "https://localhost:8080/"
    },
    "id": "VhPuNKm8A0VV",
    "outputId": "9c4bf6e3-01c4-4c4b-b624-4bf3e1569794"
   },
   "outputs": [],
   "source": [
    "tfm = transforms.Compose([transforms.ToTensor(), transforms.Pad(2)])\n",
    "data = torchvision.datasets.MNIST(f'./data/', transform=tfm, download = True)\n",
    "data_loader = DataLoader(data, batch_size=batch_size, shuffle=True, num_workers=4)"
   ]
  },
  {
   "cell_type": "code",
   "execution_count": null,
   "metadata": {
    "colab": {
     "base_uri": "https://localhost:8080/",
     "height": 1000
    },
    "id": "A-bOmvPKA0VV",
    "outputId": "7b99c63c-5f49-4d33-a4a6-5072bc66c9b0"
   },
   "outputs": [],
   "source": [
    "train_classification_network_mnist(data_loader, model, sde, optimizer, epochs=100)"
   ]
  },
  {
   "cell_type": "code",
   "execution_count": null,
   "metadata": {
    "colab": {
     "base_uri": "https://localhost:8080/"
    },
    "id": "LBDluH5UfQOI",
    "outputId": "b2b916ec-4fd9-4020-ca9e-d51e59ae195b"
   },
   "outputs": [],
   "source": [
    "import torch\n",
    "\n",
    "def prediction_accurary(time):\n",
    "    accs = []\n",
    "\n",
    "    num = 5\n",
    "    for x, y in data_loader:\n",
    "      x=x.to('cuda')\n",
    "      y=y.to('cuda')\n",
    "      random_t = torch.ones(x.shape[0], device='cuda') * time\n",
    "      z = torch.randn_like(x, device = 'cuda')\n",
    "      mu, std= sde.marginal(x, random_t)\n",
    "      perturbed_x=mu+std*z\n",
    "\n",
    "      #print(random_t.device, perturbed_x.device)\n",
    "\n",
    "      pred = model(perturbed_x, random_t)\n",
    "\n",
    "      acc = (y==torch.argmax(pred, dim = 1)).sum() / x.shape[0]\n",
    "      accs+=[acc]\n",
    "\n",
    "      if num < 25:\n",
    "        break\n",
    "      num-=1\n",
    "\n",
    "    return sum(accs) / len(accs)\n",
    "\n",
    "\n",
    "prediction_accurary(0.1)"
   ]
  },
  {
   "cell_type": "code",
   "execution_count": null,
   "metadata": {
    "id": "vOly6YrltpFI"
   },
   "outputs": [],
   "source": []
  }
 ],
 "metadata": {
  "accelerator": "GPU",
  "colab": {
   "gpuType": "T4",
   "provenance": []
  },
  "kernelspec": {
   "display_name": "Python 3",
   "name": "python3"
  },
  "language_info": {
   "codemirror_mode": {
    "name": "ipython",
    "version": 3
   },
   "file_extension": ".py",
   "mimetype": "text/x-python",
   "name": "python",
   "nbconvert_exporter": "python",
   "pygments_lexer": "ipython3",
   "version": "3.10.12"
  }
 },
 "nbformat": 4,
 "nbformat_minor": 0
}