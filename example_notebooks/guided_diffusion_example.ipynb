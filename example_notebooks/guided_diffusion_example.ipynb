{
 "cells": [
  {
   "cell_type": "code",
   "execution_count": null,
   "metadata": {
    "colab": {
     "base_uri": "https://localhost:8080/"
    },
    "id": "yS1FwUEVImuv",
    "outputId": "e52e5fd0-268c-4abd-81bd-f3c50a7ce3c6"
   },
   "outputs": [],
   "source": [
    "import os\n",
    "import subprocess\n",
    "\n",
    "def git_repo_root():\n",
    "    # Run the 'git rev-parse --show-toplevel' command to get the root directory of the Git repository\n",
    "    try:\n",
    "        root = subprocess.check_output(['git', 'rev-parse', '--show-toplevel'], universal_newlines=True).strip()\n",
    "        return root\n",
    "    except subprocess.CalledProcessError:\n",
    "        # Handle the case where the current directory is not inside a Git repository\n",
    "        return None\n",
    "\n",
    "# Get the root directory of the Git repository\n",
    "git_root = git_repo_root()\n",
    "\n",
    "if git_root:\n",
    "    # Change the working directory to the root of the Git repository\n",
    "    os.chdir(git_root)\n",
    "    print(f\"Changed working directory to: {git_root}\")\n",
    "else:\n",
    "    print(\"Not inside a Git repository.\")"
   ]
  },
  {
   "cell_type": "code",
   "execution_count": null,
   "metadata": {
    "id": "lSNMYHD9H9Fi"
   },
   "outputs": [],
   "source": [
    "from diffusion import VPSDE\n",
    "import torchvision\n",
    "from matplotlib import pyplot as plt\n",
    "import torchvision.transforms as transforms\n",
    "from denoising_diffusion_pytorch import Unet\n",
    "from diffusion import VPSDE\n",
    "from torch.utils.data import DataLoader\n",
    "from torch.optim import Adam\n",
    "from training import train_score_network_mnist\n",
    "import torch\n",
    "from guided_diffusion import Net"
   ]
  },
  {
   "cell_type": "code",
   "execution_count": null,
   "metadata": {
    "id": "PmE_1WxIH9Fo"
   },
   "outputs": [],
   "source": [
    "device = 'cuda'\n",
    "data = 'MNIST'\n",
    "model = Unet(channels = 1, dim = 32).to(device)\n",
    "model.load_state_dict(torch.load('./models/MNIST/epoch49'))\n",
    "sde = VPSDE(100, 0.1, 20, device = device)\n",
    "\n",
    "''' hyper params'''\n",
    "n_epochs =   50\n",
    "batch_size =  32\n",
    "lr=1e-4\n",
    "optimizer = Adam(model.parameters(), lr=lr)"
   ]
  },
  {
   "cell_type": "code",
   "execution_count": null,
   "metadata": {
    "id": "jHUusx1OH9Fp"
   },
   "outputs": [],
   "source": [
    "def plot(score_net):\n",
    "  with torch.no_grad():\n",
    "    samples = sde.backward_diffusion(score_net, data_shape = (5, 1, 32, 32)).detach().cpu().numpy()\n",
    "  samples = samples.swapaxes(1,2)\n",
    "  samples = samples.swapaxes(2,3)\n",
    "  fig, axe = plt.subplots(5)\n",
    "  for i in range(5):\n",
    "      axe[i].imshow(samples[i])\n",
    "  plt.show()"
   ]
  },
  {
   "cell_type": "code",
   "execution_count": null,
   "metadata": {
    "colab": {
     "base_uri": "https://localhost:8080/",
     "height": 489
    },
    "id": "Zs_4LwDnIT0x",
    "outputId": "4e23ed32-574b-4d24-a06a-8a032fc13bce"
   },
   "outputs": [],
   "source": [
    "plot(model)"
   ]
  },
  {
   "cell_type": "code",
   "execution_count": null,
   "metadata": {
    "colab": {
     "base_uri": "https://localhost:8080/"
    },
    "id": "7yLzFR5dH9Fp",
    "outputId": "831a22b2-5bf7-4b50-8bef-66b4fc454633"
   },
   "outputs": [],
   "source": [
    "classifier = Net().to(device)\n",
    "classifier.load_state_dict(torch.load('./models/MNISTClassifier/epoch99'))"
   ]
  },
  {
   "cell_type": "code",
   "execution_count": null,
   "metadata": {
    "id": "pPT-b-FNH9Fr"
   },
   "outputs": [],
   "source": [
    "def get_numbers(score_net, classifier, batch_size, number):\n",
    "\n",
    "  samples = sde.classifier_guided_backward_diffusion(score_net, classifier, data_shape = (batch_size, 1, 32, 32),\n",
    "                                     classes = torch.Tensor([number]*batch_size).to(torch.int64).to(device)).detach().cpu().numpy()\n",
    "\n",
    "  return samples\n",
    "\n",
    "def plot(score_net, classifier):\n",
    "\n",
    "  fig, axe = plt.subplots(3, 10)\n",
    "\n",
    "  for i in range(10):\n",
    "    axe[0][i].set_title(f'{i}')\n",
    "    samples = get_numbers(score_net, classifier, 3, i)\n",
    "    for j in range(3):\n",
    "      axe[j, i].imshow(samples[j][0], cmap = 'gray', vmin=0, vmax=1)\n",
    "      axe[j, i].axis('off')\n",
    "\n",
    "  plt.tight_layout(pad=0.1)\n",
    "  plt.show()"
   ]
  },
  {
   "cell_type": "code",
   "execution_count": null,
   "metadata": {
    "colab": {
     "base_uri": "https://localhost:8080/",
     "height": 396
    },
    "id": "awM60UN3H9Fr",
    "outputId": "0b3ab45b-a59e-405f-b282-07ab2c0c1ee9"
   },
   "outputs": [],
   "source": [
    "plot(model, classifier)"
   ]
  },
  {
   "cell_type": "code",
   "execution_count": null,
   "metadata": {
    "colab": {
     "base_uri": "https://localhost:8080/",
     "height": 396
    },
    "id": "kocgbquNKaOV",
    "outputId": "29a5bcc6-1dd5-4ba6-bdd3-c733f91ca6b8"
   },
   "outputs": [],
   "source": [
    "plot(model, classifier)"
   ]
  },
  {
   "cell_type": "code",
   "execution_count": null,
   "metadata": {
    "colab": {
     "base_uri": "https://localhost:8080/",
     "height": 396
    },
    "id": "htw6MadO33Py",
    "outputId": "05299c73-3a25-4312-c26c-daf6e200b5c8"
   },
   "outputs": [],
   "source": [
    "plot(model, classifier)"
   ]
  },
  {
   "cell_type": "code",
   "execution_count": null,
   "metadata": {
    "colab": {
     "base_uri": "https://localhost:8080/",
     "height": 396
    },
    "id": "Qeh2SbEW33rP",
    "outputId": "b4de0917-f247-42ee-ccb8-0cfa60e53887"
   },
   "outputs": [],
   "source": [
    "plot(model, classifier)"
   ]
  },
  {
   "cell_type": "code",
   "execution_count": null,
   "metadata": {
    "colab": {
     "base_uri": "https://localhost:8080/",
     "height": 396
    },
    "id": "da1nyNbq35TC",
    "outputId": "1f6f97a9-281f-49ec-dab2-2c5fd8f5e641"
   },
   "outputs": [],
   "source": [
    "plot(model, classifier)"
   ]
  },
  {
   "cell_type": "code",
   "execution_count": null,
   "metadata": {
    "colab": {
     "base_uri": "https://localhost:8080/",
     "height": 396
    },
    "id": "Ompuo1hs4FSb",
    "outputId": "966f873f-6e99-4ddb-c3d2-babbeabcb818"
   },
   "outputs": [],
   "source": [
    "plot(model, classifier)"
   ]
  }
 ],
 "metadata": {
  "accelerator": "GPU",
  "colab": {
   "gpuType": "T4",
   "provenance": []
  },
  "kernelspec": {
   "display_name": "Python 3",
   "name": "python3"
  },
  "language_info": {
   "codemirror_mode": {
    "name": "ipython",
    "version": 3
   },
   "file_extension": ".py",
   "mimetype": "text/x-python",
   "name": "python",
   "nbconvert_exporter": "python",
   "pygments_lexer": "ipython3",
   "version": "3.10.12"
  }
 },
 "nbformat": 4,
 "nbformat_minor": 0
}