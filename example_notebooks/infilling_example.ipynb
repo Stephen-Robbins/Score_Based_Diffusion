{
 "cells": [
  {
   "cell_type": "code",
   "execution_count": null,
   "metadata": {
    "colab": {
     "base_uri": "https://localhost:8080/"
    },
    "id": "yS1FwUEVImuv",
    "outputId": "1075e4df-e721-41cb-a903-926e92e8548e"
   },
   "outputs": [],
   "source": [
    "import os\n",
    "import subprocess\n",
    "\n",
    "def git_repo_root():\n",
    "    # Run the 'git rev-parse --show-toplevel' command to get the root directory of the Git repository\n",
    "    try:\n",
    "        root = subprocess.check_output(['git', 'rev-parse', '--show-toplevel'], universal_newlines=True).strip()\n",
    "        return root\n",
    "    except subprocess.CalledProcessError:\n",
    "        # Handle the case where the current directory is not inside a Git repository\n",
    "        return None\n",
    "\n",
    "# Get the root directory of the Git repository\n",
    "git_root = git_repo_root()\n",
    "\n",
    "if git_root:\n",
    "    # Change the working directory to the root of the Git repository\n",
    "    os.chdir(git_root)\n",
    "    print(f\"Changed working directory to: {git_root}\")\n",
    "else:\n",
    "    print(\"Not inside a Git repository.\")"
   ]
  },
  {
   "cell_type": "code",
   "execution_count": null,
   "metadata": {
    "id": "lSNMYHD9H9Fi"
   },
   "outputs": [],
   "source": [
    "from diffusion import VPSDE\n",
    "import torchvision\n",
    "from matplotlib import pyplot as plt\n",
    "import torchvision.transforms as transforms\n",
    "from denoising_diffusion_pytorch import Unet\n",
    "from diffusion import VPSDE\n",
    "from torch.utils.data import DataLoader\n",
    "from torch.optim import Adam\n",
    "from training import train_score_network_mnist\n",
    "import torch\n",
    "from guided_diffusion import Net"
   ]
  },
  {
   "cell_type": "code",
   "execution_count": null,
   "metadata": {
    "id": "PmE_1WxIH9Fo"
   },
   "outputs": [],
   "source": [
    "device = 'cuda'\n",
    "data = 'MNIST'\n",
    "model = Unet(channels = 1, dim = 32).to(device)\n",
    "model.load_state_dict(torch.load('./epoch49'))\n",
    "sde = VPSDE(100, 0.1, 20, device = device)\n",
    "\n",
    "''' hyper params'''\n",
    "n_epochs =   50\n",
    "batch_size =  32\n",
    "lr=1e-4\n",
    "optimizer = Adam(model.parameters(), lr=lr)"
   ]
  },
  {
   "cell_type": "code",
   "execution_count": null,
   "metadata": {
    "colab": {
     "base_uri": "https://localhost:8080/"
    },
    "id": "SjCdPJpih1DN",
    "outputId": "c3622fdd-ecd6-4b35-fdd1-d147a98578d2"
   },
   "outputs": [],
   "source": [
    "tfm = transforms.Compose([transforms.ToTensor(), transforms.Pad(2)])\n",
    "data = torchvision.datasets.MNIST(f'./data/', transform=tfm, download = True)\n",
    "data_loader = DataLoader(data, batch_size=batch_size, shuffle=True, num_workers=4)"
   ]
  },
  {
   "cell_type": "code",
   "execution_count": null,
   "metadata": {
    "id": "jHUusx1OH9Fp"
   },
   "outputs": [],
   "source": [
    "def plot(score_net):\n",
    "  with torch.no_grad():\n",
    "    samples = sde.backward_diffusion(score_net, data_shape = (5, 1, 32, 32)).detach().cpu().numpy()\n",
    "  samples = samples.swapaxes(1,2)\n",
    "  samples = samples.swapaxes(2,3)\n",
    "  fig, axe = plt.subplots(5)\n",
    "  for i in range(5):\n",
    "      axe[i].imshow(samples[i])\n",
    "  plt.show()"
   ]
  },
  {
   "cell_type": "code",
   "execution_count": null,
   "metadata": {
    "colab": {
     "base_uri": "https://localhost:8080/",
     "height": 489
    },
    "id": "Zs_4LwDnIT0x",
    "outputId": "94d135fd-2544-486c-8329-dd2ba211b561"
   },
   "outputs": [],
   "source": [
    "plot(model)"
   ]
  },
  {
   "cell_type": "code",
   "execution_count": null,
   "metadata": {
    "colab": {
     "base_uri": "https://localhost:8080/",
     "height": 1000
    },
    "id": "7yLzFR5dH9Fp",
    "outputId": "dafcf205-8242-4b31-d0eb-28d557f0d15c"
   },
   "outputs": [],
   "source": [
    "def half_cut(img):\n",
    "  mask = torch.ones_like(img)\n",
    "  mask[:, :, :16, :] = 0\n",
    "  mask2 = torch.ones_like(img)\n",
    "  mask2[:, :, 16:, :] = 0\n",
    "  mask3 = torch.ones_like(img)\n",
    "  mask3[:, :, :, 16:] = 0\n",
    "  mask4 = torch.ones_like(img)\n",
    "  mask4[:, :, :, :16] = 0\n",
    "\n",
    "  b = img.size(0)\n",
    "  total_mask = torch.cat([mask, mask4, mask2, mask3], axis = 0)\n",
    "  idx = torch.randperm(4*b)\n",
    "  total_mask = total_mask[idx, :][:b]\n",
    "\n",
    "  img = img*total_mask\n",
    "  return total_mask, img\n",
    "\n",
    "\n",
    "\n",
    "\n",
    "for x, y in data_loader:\n",
    "  mask, x = half_cut(x)\n",
    "  plt.imshow(x[0][0])\n",
    "  plt.show()\n",
    "  plt.imshow(x[1][0])\n",
    "  plt.show()\n",
    "  plt.imshow(x[3][0])\n",
    "  plt.show()\n",
    "  plt.imshow(x[4][0])\n",
    "  plt.show()\n",
    "  break"
   ]
  },
  {
   "cell_type": "code",
   "execution_count": null,
   "metadata": {
    "id": "pPT-b-FNH9Fr"
   },
   "outputs": [],
   "source": [
    "def plot_with_infill(score_net, x_org, x, masks):\n",
    "\n",
    "  plt.figure(figsize=(18,18))\n",
    "  fig, axe = plt.subplots(10, 11)\n",
    "\n",
    "  axe[0][0].set_title('Original', {'fontsize':8})\n",
    "  axe[0][1].set_title('Masked', {'fontsize':8})\n",
    "\n",
    "  for i in range(10):\n",
    "    axe[i, 0].imshow(x_org[i][0].cpu(), cmap = 'gray', vmin=0, vmax=1)\n",
    "    axe[i, 1].imshow(x[i][0].cpu(), cmap = 'gray', vmin=0, vmax=1)\n",
    "    axe[i][0].axis('off')\n",
    "    axe[i][1].axis('off')\n",
    "    axe[i][2].set_visible(False)\n",
    "    axe[i][2].set_visible(False)\n",
    "\n",
    "  for i in range(8):\n",
    "    with torch.no_grad():\n",
    "      samples = sde.infilling_diffusion(score_net, x, mask, data_shape = (32, 1, 32, 32)).detach().cpu().numpy()\n",
    "    for j in range(10):\n",
    "      axe[j, 3+i].imshow(samples[j][0], cmap = 'gray', vmin=0, vmax=1)\n",
    "      axe[j, 3+i].axis('off')\n",
    "  plt.tight_layout(pad=0.1)\n",
    "  plt.show()"
   ]
  },
  {
   "cell_type": "code",
   "execution_count": null,
   "metadata": {
    "colab": {
     "base_uri": "https://localhost:8080/",
     "height": 531
    },
    "id": "awM60UN3H9Fr",
    "outputId": "32d04aad-2156-43b1-a977-83ee4478fdb6"
   },
   "outputs": [],
   "source": [
    "for x, y in data_loader:\n",
    "  x_org = torch.Tensor(x)\n",
    "  mask, x = half_cut(x)\n",
    "  x = x.to(device)\n",
    "  mask = mask.to(device)\n",
    "  plot_with_infill(model, x_org,  x, mask)\n",
    "  break"
   ]
  },
  {
   "cell_type": "code",
   "execution_count": null,
   "metadata": {
    "id": "kocgbquNKaOV"
   },
   "outputs": [],
   "source": [
    "torch.nn.functional.one_hot(torch.Tensor([5,5,5,5,5]).to(torch.int64).to(device))"
   ]
  },
  {
   "cell_type": "code",
   "execution_count": null,
   "metadata": {
    "colab": {
     "base_uri": "https://localhost:8080/",
     "height": 192
    },
    "id": "WCL_rY8zLNc1",
    "outputId": "29f66357-e215-44d1-d214-9e0e06797104"
   },
   "outputs": [],
   "source": []
  },
  {
   "cell_type": "code",
   "execution_count": null,
   "metadata": {
    "id": "KvCClKwfLW40"
   },
   "outputs": [],
   "source": []
  }
 ],
 "metadata": {
  "accelerator": "GPU",
  "colab": {
   "gpuType": "T4",
   "provenance": []
  },
  "kernelspec": {
   "display_name": "Python 3",
   "name": "python3"
  },
  "language_info": {
   "codemirror_mode": {
    "name": "ipython",
    "version": 3
   },
   "file_extension": ".py",
   "mimetype": "text/x-python",
   "name": "python",
   "nbconvert_exporter": "python",
   "pygments_lexer": "ipython3",
   "version": "3.10.12"
  }
 },
 "nbformat": 4,
 "nbformat_minor": 0
}