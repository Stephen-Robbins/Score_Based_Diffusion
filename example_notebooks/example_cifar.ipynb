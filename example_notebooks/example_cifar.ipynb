{
 "cells": [
  {
   "cell_type": "code",
   "execution_count": null,
   "metadata": {
    "colab": {
     "base_uri": "https://localhost:8080/"
    },
    "id": "AIGl1r8r4nyl",
    "outputId": "f9a144ac-94c1-48e7-d718-29689d5afde0"
   },
   "outputs": [],
   "source": [
    "import os\n",
    "import subprocess\n",
    "\n",
    "def git_repo_root():\n",
    "    # Run the 'git rev-parse --show-toplevel' command to get the root directory of the Git repository\n",
    "    try:\n",
    "        root = subprocess.check_output(['git', 'rev-parse', '--show-toplevel'], universal_newlines=True).strip()\n",
    "        return root\n",
    "    except subprocess.CalledProcessError:\n",
    "        # Handle the case where the current directory is not inside a Git repository\n",
    "        return None\n",
    "\n",
    "# Get the root directory of the Git repository\n",
    "git_root = git_repo_root()\n",
    "\n",
    "if git_root:\n",
    "    # Change the working directory to the root of the Git repository\n",
    "    os.chdir(git_root)\n",
    "    print(f\"Changed working directory to: {git_root}\")\n",
    "else:\n",
    "    print(\"Not inside a Git repository.\")"
   ]
  },
  {
   "cell_type": "code",
   "execution_count": null,
   "metadata": {
    "id": "OEmzywiX4bU6"
   },
   "outputs": [],
   "source": [
    "from diffusion import VPSDE\n",
    "import torchvision\n",
    "from matplotlib import pyplot as plt\n",
    "import torchvision.transforms as transforms\n",
    "from denoising_diffusion_pytorch import Unet\n",
    "from diffusion import VPSDE\n",
    "from torch.utils.data import DataLoader\n",
    "from torch.optim import Adam\n",
    "from training import train_score_network_cifar\n",
    "import torch"
   ]
  },
  {
   "cell_type": "code",
   "execution_count": null,
   "metadata": {
    "id": "OfSgDuXT4bU_"
   },
   "outputs": [],
   "source": [
    "device = 'cuda'\n",
    "data = 'CIFAR10'\n",
    "model = Unet(dim = 32).to(device)\n",
    "model.load_state_dict(torch.load(\"models/CIFARlinear/epoch249\")) # Load partially pretrained model to warmstart\n",
    "sde = VPSDE(100, 0.1, 20, device = device, logarithmic_scheduling = True)\n",
    "\n",
    "''' hyper params'''\n",
    "n_epochs = 50\n",
    "batch_size = 32"
   ]
  },
  {
   "cell_type": "code",
   "execution_count": null,
   "metadata": {
    "colab": {
     "base_uri": "https://localhost:8080/"
    },
    "id": "wfe2lcgc4bVA",
    "outputId": "d80214cc-9998-4912-c16d-682c9a62b48f"
   },
   "outputs": [],
   "source": [
    "tfm = transforms.Compose([transforms.ToTensor()])\n",
    "data = torchvision.datasets.CIFAR10(f'./data/', transform=tfm, download = True)\n",
    "data_loader = DataLoader(data, batch_size=batch_size, shuffle=True, num_workers=4)"
   ]
  },
  {
   "cell_type": "code",
   "execution_count": null,
   "metadata": {
    "colab": {
     "base_uri": "https://localhost:8080/",
     "height": 1000
    },
    "id": "BENiNy8v4bVB",
    "outputId": "795c3f26-9c79-4497-e13d-0e2c944acb62"
   },
   "outputs": [],
   "source": [
    "train_score_network_cifar(data_loader, model, sde, epochs=n_epochs)"
   ]
  },
  {
   "cell_type": "code",
   "execution_count": null,
   "metadata": {
    "id": "iBUHHOoEXj_k"
   },
   "outputs": [],
   "source": []
  }
 ],
 "metadata": {
  "accelerator": "GPU",
  "colab": {
   "gpuType": "T4",
   "provenance": []
  },
  "kernelspec": {
   "display_name": "Python 3",
   "name": "python3"
  },
  "language_info": {
   "codemirror_mode": {
    "name": "ipython",
    "version": 3
   },
   "file_extension": ".py",
   "mimetype": "text/x-python",
   "name": "python",
   "nbconvert_exporter": "python",
   "pygments_lexer": "ipython3",
   "version": "3.10.12"
  }
 },
 "nbformat": 4,
 "nbformat_minor": 0
}