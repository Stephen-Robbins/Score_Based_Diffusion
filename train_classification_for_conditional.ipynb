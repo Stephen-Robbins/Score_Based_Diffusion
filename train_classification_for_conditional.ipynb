{
  "cells": [
    {
      "cell_type": "code",
      "execution_count": null,
      "metadata": {
        "colab": {
          "base_uri": "https://localhost:8080/"
        },
        "id": "m2BAxLiDA0VS",
        "outputId": "3fd0a669-cede-4530-93c3-8d72d5470814"
      },
      "outputs": [
        {
          "output_type": "stream",
          "name": "stdout",
          "text": [
            "Requirement already satisfied: einops in /usr/local/lib/python3.10/dist-packages (0.7.0)\n"
          ]
        }
      ],
      "source": [
        "!pip install einops\n",
        "from diffusion import VPSDE\n",
        "import torchvision\n",
        "from matplotlib import pyplot as plt\n",
        "import torchvision.transforms as transforms\n",
        "from diffusion import VPSDE\n",
        "from torch.utils.data import DataLoader\n",
        "from torch.optim import Adam\n",
        "from guided_diffusion import  train_classification_network_mnist, Net"
      ]
    },
    {
      "cell_type": "code",
      "execution_count": null,
      "metadata": {
        "colab": {
          "base_uri": "https://localhost:8080/"
        },
        "id": "klEqbxlYA0VV",
        "outputId": "9d0b21fa-8f2a-41b2-dd72-efe3cb2db1b0"
      },
      "outputs": [
        {
          "output_type": "stream",
          "name": "stderr",
          "text": [
            "/usr/local/lib/python3.10/dist-packages/torch/nn/modules/lazy.py:180: UserWarning: Lazy modules are a new feature under heavy development so changes to the API or functionality can happen at any moment.\n",
            "  warnings.warn('Lazy modules are a new feature under heavy development '\n"
          ]
        }
      ],
      "source": [
        "device = 'cuda'\n",
        "data = 'MNIST'\n",
        "model = Net().to(device)\n",
        "sde = VPSDE(100, 0.1, 20, device = device)\n",
        "\n",
        "''' hyper params'''\n",
        "n_epochs =   50\n",
        "batch_size =  32\n",
        "lr=1e-4\n",
        "optimizer = Adam(model.parameters(), lr=lr)"
      ]
    },
    {
      "cell_type": "code",
      "execution_count": null,
      "metadata": {
        "colab": {
          "base_uri": "https://localhost:8080/"
        },
        "id": "VhPuNKm8A0VV",
        "outputId": "9c4bf6e3-01c4-4c4b-b624-4bf3e1569794"
      },
      "outputs": [
        {
          "output_type": "stream",
          "name": "stderr",
          "text": [
            "/usr/local/lib/python3.10/dist-packages/torch/utils/data/dataloader.py:557: UserWarning: This DataLoader will create 4 worker processes in total. Our suggested max number of worker in current system is 2, which is smaller than what this DataLoader is going to create. Please be aware that excessive worker creation might get DataLoader running slow or even freeze, lower the worker number to avoid potential slowness/freeze if necessary.\n",
            "  warnings.warn(_create_warning_msg(\n"
          ]
        }
      ],
      "source": [
        "tfm = transforms.Compose([transforms.ToTensor(), transforms.Pad(2)])\n",
        "data = torchvision.datasets.MNIST(f'./data/', transform=tfm, download = True)\n",
        "data_loader = DataLoader(data, batch_size=batch_size, shuffle=True, num_workers=4)"
      ]
    },
    {
      "cell_type": "code",
      "execution_count": null,
      "metadata": {
        "colab": {
          "base_uri": "https://localhost:8080/",
          "height": 1000
        },
        "id": "A-bOmvPKA0VV",
        "outputId": "7b99c63c-5f49-4d33-a4a6-5072bc66c9b0"
      },
      "outputs": [
        {
          "output_type": "stream",
          "name": "stdout",
          "text": [
            "Epoch: 0 and Loss: 3821.132080078125\n",
            "Epoch: 1 and Loss: 3817.44140625\n",
            "Epoch: 2 and Loss: 3800.734130859375\n",
            "Epoch: 3 and Loss: 3801.12841796875\n",
            "Epoch: 4 and Loss: 3779.938720703125\n",
            "Epoch: 5 and Loss: 3784.33984375\n",
            "Epoch: 6 and Loss: 3775.806640625\n",
            "Epoch: 7 and Loss: 3777.026123046875\n",
            "Epoch: 8 and Loss: 3771.6162109375\n",
            "Epoch: 9 and Loss: 3769.04296875\n",
            "Epoch: 10 and Loss: 3763.0888671875\n",
            "Epoch: 11 and Loss: 3761.559814453125\n",
            "Epoch: 12 and Loss: 3759.893310546875\n",
            "Epoch: 13 and Loss: 3760.466796875\n",
            "Epoch: 14 and Loss: 3755.538818359375\n",
            "Epoch: 15 and Loss: 3753.603271484375\n",
            "Epoch: 16 and Loss: 3756.83935546875\n",
            "Epoch: 17 and Loss: 3756.18115234375\n",
            "Epoch: 18 and Loss: 3752.11474609375\n",
            "Epoch: 19 and Loss: 3752.962158203125\n",
            "Epoch: 20 and Loss: 3755.560302734375\n",
            "Epoch: 21 and Loss: 3752.82373046875\n",
            "Epoch: 22 and Loss: 3749.8623046875\n",
            "Epoch: 23 and Loss: 3754.617431640625\n",
            "Epoch: 24 and Loss: 3744.50146484375\n",
            "Epoch: 25 and Loss: 3739.484619140625\n",
            "Epoch: 26 and Loss: 3738.968505859375\n",
            "Epoch: 27 and Loss: 3744.366943359375\n",
            "Epoch: 28 and Loss: 3744.12841796875\n",
            "Epoch: 29 and Loss: 3739.46142578125\n",
            "Epoch: 30 and Loss: 3745.429931640625\n",
            "Epoch: 31 and Loss: 3742.473388671875\n",
            "Epoch: 32 and Loss: 3740.7392578125\n",
            "Epoch: 33 and Loss: 3741.04150390625\n",
            "Epoch: 34 and Loss: 3741.264404296875\n",
            "Epoch: 35 and Loss: 3741.201171875\n",
            "Epoch: 36 and Loss: 3743.989990234375\n",
            "Epoch: 37 and Loss: 3739.433837890625\n",
            "Epoch: 38 and Loss: 3734.880126953125\n",
            "Epoch: 39 and Loss: 3732.536865234375\n",
            "Epoch: 40 and Loss: 3737.301513671875\n",
            "Epoch: 41 and Loss: 3731.6435546875\n",
            "Epoch: 42 and Loss: 3732.23291015625\n",
            "Epoch: 43 and Loss: 3736.491943359375\n",
            "Epoch: 44 and Loss: 3734.9951171875\n",
            "Epoch: 45 and Loss: 3729.568115234375\n",
            "Epoch: 46 and Loss: 3734.87451171875\n",
            "Epoch: 47 and Loss: 3733.408447265625\n",
            "Epoch: 48 and Loss: 3731.93896484375\n",
            "Epoch: 49 and Loss: 3735.331787109375\n",
            "Epoch: 50 and Loss: 3732.906982421875\n",
            "Epoch: 51 and Loss: 3726.55712890625\n",
            "Epoch: 52 and Loss: 3731.817626953125\n",
            "Epoch: 53 and Loss: 3732.359130859375\n",
            "Epoch: 54 and Loss: 3728.727783203125\n",
            "Epoch: 55 and Loss: 3729.069091796875\n",
            "Epoch: 56 and Loss: 3734.728271484375\n",
            "Epoch: 57 and Loss: 3730.88427734375\n",
            "Epoch: 58 and Loss: 3730.2734375\n",
            "Epoch: 59 and Loss: 3725.181640625\n",
            "Epoch: 60 and Loss: 3723.59423828125\n",
            "Epoch: 61 and Loss: 3734.123046875\n",
            "Epoch: 62 and Loss: 3720.749755859375\n",
            "Epoch: 63 and Loss: 3728.532470703125\n",
            "Epoch: 64 and Loss: 3725.831787109375\n",
            "Epoch: 65 and Loss: 3728.674072265625\n",
            "Epoch: 66 and Loss: 3727.104248046875\n",
            "Epoch: 67 and Loss: 3719.411865234375\n",
            "Epoch: 68 and Loss: 3722.752197265625\n",
            "Epoch: 69 and Loss: 3726.163330078125\n",
            "Epoch: 70 and Loss: 3729.8388671875\n",
            "Epoch: 71 and Loss: 3729.900390625\n",
            "Epoch: 72 and Loss: 3725.22900390625\n",
            "Epoch: 73 and Loss: 3726.9814453125\n",
            "Epoch: 74 and Loss: 3720.244384765625\n",
            "Epoch: 75 and Loss: 3726.49755859375\n",
            "Epoch: 76 and Loss: 3720.635009765625\n",
            "Epoch: 77 and Loss: 3725.967041015625\n",
            "Epoch: 78 and Loss: 3721.732421875\n",
            "Epoch: 79 and Loss: 3725.73193359375\n",
            "Epoch: 80 and Loss: 3720.670166015625\n",
            "Epoch: 81 and Loss: 3725.32080078125\n",
            "Epoch: 82 and Loss: 3719.520263671875\n",
            "Epoch: 83 and Loss: 3723.479248046875\n",
            "Epoch: 84 and Loss: 3725.0537109375\n",
            "Epoch: 85 and Loss: 3727.810302734375\n",
            "Epoch: 86 and Loss: 3721.2236328125\n"
          ]
        },
        {
          "output_type": "error",
          "ename": "KeyboardInterrupt",
          "evalue": "ignored",
          "traceback": [
            "\u001b[0;31m---------------------------------------------------------------------------\u001b[0m",
            "\u001b[0;31mKeyboardInterrupt\u001b[0m                         Traceback (most recent call last)",
            "\u001b[0;32m<ipython-input-5-d9fc04907415>\u001b[0m in \u001b[0;36m<cell line: 1>\u001b[0;34m()\u001b[0m\n\u001b[0;32m----> 1\u001b[0;31m \u001b[0mtrain_classification_network_mnist\u001b[0m\u001b[0;34m(\u001b[0m\u001b[0mdata_loader\u001b[0m\u001b[0;34m,\u001b[0m \u001b[0mmodel\u001b[0m\u001b[0;34m,\u001b[0m \u001b[0msde\u001b[0m\u001b[0;34m,\u001b[0m \u001b[0moptimizer\u001b[0m\u001b[0;34m,\u001b[0m \u001b[0mepochs\u001b[0m\u001b[0;34m=\u001b[0m\u001b[0;36m100\u001b[0m\u001b[0;34m)\u001b[0m\u001b[0;34m\u001b[0m\u001b[0;34m\u001b[0m\u001b[0m\n\u001b[0m",
            "\u001b[0;32m/content/guided_diffusion.py\u001b[0m in \u001b[0;36mtrain_classification_network_mnist\u001b[0;34m(dataloader, class_net, sde, optimizer, epochs)\u001b[0m\n\u001b[1;32m     59\u001b[0m     \u001b[0;32mfor\u001b[0m \u001b[0mepoch\u001b[0m \u001b[0;32min\u001b[0m \u001b[0mrange\u001b[0m\u001b[0;34m(\u001b[0m\u001b[0mepochs\u001b[0m\u001b[0;34m)\u001b[0m\u001b[0;34m:\u001b[0m\u001b[0;34m\u001b[0m\u001b[0;34m\u001b[0m\u001b[0m\n\u001b[1;32m     60\u001b[0m         \u001b[0;32mfor\u001b[0m \u001b[0mx\u001b[0m\u001b[0;34m,\u001b[0m \u001b[0my\u001b[0m \u001b[0;32min\u001b[0m \u001b[0mdataloader\u001b[0m\u001b[0;34m:\u001b[0m\u001b[0;34m\u001b[0m\u001b[0;34m\u001b[0m\u001b[0m\n\u001b[0;32m---> 61\u001b[0;31m             \u001b[0mx\u001b[0m \u001b[0;34m=\u001b[0m \u001b[0mx\u001b[0m\u001b[0;34m.\u001b[0m\u001b[0mto\u001b[0m\u001b[0;34m(\u001b[0m\u001b[0mdevice\u001b[0m\u001b[0;34m)\u001b[0m\u001b[0;34m\u001b[0m\u001b[0;34m\u001b[0m\u001b[0m\n\u001b[0m\u001b[1;32m     62\u001b[0m             \u001b[0my\u001b[0m \u001b[0;34m=\u001b[0m \u001b[0my\u001b[0m\u001b[0;34m.\u001b[0m\u001b[0mto\u001b[0m\u001b[0;34m(\u001b[0m\u001b[0mdevice\u001b[0m\u001b[0;34m)\u001b[0m\u001b[0;34m\u001b[0m\u001b[0;34m\u001b[0m\u001b[0m\n\u001b[1;32m     63\u001b[0m             \u001b[0moptimizer\u001b[0m\u001b[0;34m.\u001b[0m\u001b[0mzero_grad\u001b[0m\u001b[0;34m(\u001b[0m\u001b[0;34m)\u001b[0m\u001b[0;34m\u001b[0m\u001b[0;34m\u001b[0m\u001b[0m\n",
            "\u001b[0;31mKeyboardInterrupt\u001b[0m: "
          ]
        }
      ],
      "source": [
        "train_classification_network_mnist(data_loader, model, sde, optimizer, epochs=100)"
      ]
    },
    {
      "cell_type": "code",
      "source": [
        "import torch\n",
        "\n",
        "def prediction_accurary(time):\n",
        "    accs = []\n",
        "\n",
        "    num = 5\n",
        "    for x, y in data_loader:\n",
        "      x=x.to('cuda')\n",
        "      y=y.to('cuda')\n",
        "      random_t = torch.ones(x.shape[0], device='cuda') * time\n",
        "      z = torch.randn_like(x, device = 'cuda')\n",
        "      mu, std= sde.marginal(x, random_t)\n",
        "      perturbed_x=mu+std*z\n",
        "\n",
        "      #print(random_t.device, perturbed_x.device)\n",
        "\n",
        "      pred = model(perturbed_x, random_t)\n",
        "\n",
        "      acc = (y==torch.argmax(pred, dim = 1)).sum() / x.shape[0]\n",
        "      accs+=[acc]\n",
        "\n",
        "      if num < 25:\n",
        "        break\n",
        "      num-=1\n",
        "\n",
        "    return sum(accs) / len(accs)\n",
        "\n",
        "\n",
        "prediction_accurary(0.1)"
      ],
      "metadata": {
        "colab": {
          "base_uri": "https://localhost:8080/"
        },
        "id": "LBDluH5UfQOI",
        "outputId": "b2b916ec-4fd9-4020-ca9e-d51e59ae195b"
      },
      "execution_count": null,
      "outputs": [
        {
          "output_type": "execute_result",
          "data": {
            "text/plain": [
              "tensor(1., device='cuda:0')"
            ]
          },
          "metadata": {},
          "execution_count": 24
        }
      ]
    },
    {
      "cell_type": "code",
      "source": [],
      "metadata": {
        "id": "vOly6YrltpFI"
      },
      "execution_count": null,
      "outputs": []
    }
  ],
  "metadata": {
    "kernelspec": {
      "display_name": "Python 3",
      "name": "python3"
    },
    "language_info": {
      "codemirror_mode": {
        "name": "ipython",
        "version": 3
      },
      "file_extension": ".py",
      "mimetype": "text/x-python",
      "name": "python",
      "nbconvert_exporter": "python",
      "pygments_lexer": "ipython3",
      "version": "3.11.6"
    },
    "colab": {
      "provenance": [],
      "gpuType": "T4"
    },
    "accelerator": "GPU"
  },
  "nbformat": 4,
  "nbformat_minor": 0
}